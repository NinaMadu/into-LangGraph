{
 "cells": [
  {
   "cell_type": "code",
   "execution_count": 2,
   "id": "e0b811f1",
   "metadata": {},
   "outputs": [],
   "source": [
    "from typing import Dict, TypedDict\n",
    "from langgraph.graph import StateGraph"
   ]
  },
  {
   "cell_type": "code",
   "execution_count": 153,
   "id": "acc038c3",
   "metadata": {},
   "outputs": [],
   "source": [
    "class AgentState(TypedDict):    \n",
    "    message: str\n",
    "\n",
    "def greeting_node(state: AgentState) -> AgentState:\n",
    "    \"\"\"A simple greeting node that initializes the state with a message.\"\"\"\n",
    "    \n",
    "    state['message'] = \"Hey \" + state[\"message\"] + \", how is your day going?\"\n",
    "    return state"
   ]
  },
  {
   "cell_type": "code",
   "execution_count": 154,
   "id": "b8b92000",
   "metadata": {},
   "outputs": [],
   "source": [
    "graph = StateGraph(AgentState)\n",
    "graph.add_node(\"greeting\", greeting_node)\n",
    "\n",
    "graph.set_entry_point(\"greeting\")\n",
    "graph.set_finish_point(\"greeting\")\n",
    "\n",
    "app = graph.compile()"
   ]
  },
  {
   "cell_type": "code",
   "execution_count": 155,
   "id": "777e42e6",
   "metadata": {},
   "outputs": [
    {
     "data": {
      "image/png": "[encoded data removed]",
      "text/plain": [
       "<IPython.core.display.Image object>"
      ]
     },
     "metadata": {},
     "output_type": "display_data"
    }
   ],
   "source": [
    "from IPython.display import Image, display\n",
    "display(Image(app.get_graph().draw_mermaid_png()))\n"
   ]
  },
  {
   "cell_type": "code",
   "execution_count": 156,
   "id": "98edc9cf",
   "metadata": {},
   "outputs": [
    {
     "data": {
      "text/plain": [
       "{'message': 'Hey Ninada, how is your day going?'}"
      ]
     },
     "execution_count": 156,
     "metadata": {},
     "output_type": "execute_result"
    }
   ],
   "source": [
    "app.invoke({\"message\" : \"Ninada\"})"
   ]
  },
  {
   "cell_type": "code",
   "execution_count": 8,
   "id": "58e09a4c",
   "metadata": {},
   "outputs": [],
   "source": [
    "class AgentState(TypedDict):    \n",
    "    message: str\n",
    "\n",
    "def name_node(state: AgentState) -> AgentState:\n",
    "    \"\"\"The first exercise of the LangGraph tutorial.\"\"\"\n",
    "    \n",
    "    state['name'] = state[\"name\"] + \", you're doing great!\"\n",
    "    return state"
   ]
  },
  {
   "cell_type": "code",
   "execution_count": 9,
   "id": "478ebb84",
   "metadata": {},
   "outputs": [],
   "source": [
    "graph = StateGraph(AgentState)\n",
    "graph.add_node(\"greeting\", greeting_node)\n",
    "graph.add_node(\"name\", name_node)\n",
    "\n",
    "graph.set_entry_point(\"greeting\")\n",
    "graph.set_finish_point(\"name\")\n",
    "\n",
    "app = graph.compile()"
   ]
  },
  {
   "cell_type": "code",
   "execution_count": 10,
   "id": "fb999fe2",
   "metadata": {},
   "outputs": [
    {
     "data": {
      "image/png": "[encoded data removed]",
      "text/plain": [
       "<IPython.core.display.Image object>"
      ]
     },
     "metadata": {},
     "output_type": "display_data"
    }
   ],
   "source": [
    "from IPython.display import Image, display\n",
    "display(Image(app.get_graph().draw_mermaid_png()))"
   ]
  },
  {
   "cell_type": "markdown",
   "id": "9d13d5a6",
   "metadata": {},
   "source": [
    "## Multiple  Input Graph ##"
   ]
  },
  {
   "cell_type": "code",
   "execution_count": 12,
   "id": "00421f72",
   "metadata": {},
   "outputs": [],
   "source": [
    "class AgentState(TypedDict):\n",
    "    values: list[int]\n",
    "    name : str\n",
    "    result : int"
   ]
  },
  {
   "cell_type": "code",
   "execution_count": 20,
   "id": "4364649a",
   "metadata": {},
   "outputs": [],
   "source": [
    "def process_values(state: AgentState) -> AgentState:\n",
    "    \"\"\"Process the multiple differen inputs\"\"\"\n",
    "    print(state)\n",
    "    \n",
    "    state['result'] = f\"Hi there {state['name']}! Your sum = {sum(state['values'])}\"\n",
    "    print(state)\n",
    "    return state"
   ]
  },
  {
   "cell_type": "code",
   "execution_count": 21,
   "id": "648de700",
   "metadata": {},
   "outputs": [],
   "source": [
    "graph = StateGraph(AgentState)\n",
    "\n",
    "graph.add_node(\"processor\", process_values)\n",
    "graph.set_entry_point(\"processor\")\n",
    "graph.set_finish_point(\"processor\")\n",
    "app = graph.compile()"
   ]
  },
  {
   "cell_type": "code",
   "execution_count": 16,
   "id": "caad027d",
   "metadata": {},
   "outputs": [
    {
     "data": {
      "image/png": "[encoded data removed]",
      "text/plain": [
       "<IPython.core.display.Image object>"
      ]
     },
     "metadata": {},
     "output_type": "display_data"
    }
   ],
   "source": [
    "from IPython.display import Image, display\n",
    "display(Image(app.get_graph().draw_mermaid_png()))"
   ]
  },
  {
   "cell_type": "code",
   "execution_count": 22,
   "id": "6a66e00a",
   "metadata": {},
   "outputs": [
    {
     "name": "stdout",
     "output_type": "stream",
     "text": [
      "{'values': [1, 2, 3], 'name': 'Ninada'}\n",
      "{'values': [1, 2, 3], 'name': 'Ninada', 'result': 'Hi there Ninada! Your sum = 6'}\n"
     ]
    }
   ],
   "source": [
    "answer = app.invoke({\"values\": [1, 2, 3], \"name\": \"Ninada\"})"
   ]
  },
  {
   "cell_type": "code",
   "execution_count": 23,
   "id": "9a1e90bb",
   "metadata": {},
   "outputs": [
    {
     "name": "stdout",
     "output_type": "stream",
     "text": [
      "{'values': [1, 2, 3], 'name': 'Ninada', 'result': 'Hi there Ninada! Your sum = 6'}\n"
     ]
    }
   ],
   "source": [
    "print(answer)"
   ]
  },
  {
   "cell_type": "code",
   "execution_count": null,
   "id": "e5f0fd79",
   "metadata": {},
   "outputs": [
    {
     "name": "stdout",
     "output_type": "stream",
     "text": [
      "Hi there Ninada! Your sum = 6\n"
     ]
    }
   ],
   "source": [
    "print(answer['result'])  "
   ]
  },
  {
   "cell_type": "markdown",
   "id": "a231ec6c",
   "metadata": {},
   "source": [
    "### Exercise 2 ###"
   ]
  },
  {
   "cell_type": "code",
   "execution_count": 33,
   "id": "79de5a5d",
   "metadata": {},
   "outputs": [],
   "source": [
    "class AgentState(TypedDict):\n",
    "    values: list[int]\n",
    "    name : str\n",
    "    operation: str\n",
    "    result : int\n",
    "    message: str"
   ]
  },
  {
   "cell_type": "code",
   "execution_count": 40,
   "id": "0aefdcd1",
   "metadata": {},
   "outputs": [],
   "source": [
    "def math_operation(state: AgentState) -> AgentState:\n",
    "    \"\"\"Perform a mathematical operation based on the state.\"\"\"\n",
    "    if state['operation'] == '+':\n",
    "        state['result'] = sum(state['values'])\n",
    "    elif state['operation'] == '*':\n",
    "        state['result'] = 1\n",
    "        for vlaue in state['values']:\n",
    "            state['result'] *= vlaue\n",
    "    elif state['operation'] == '-':\n",
    "        state['result'] = state['values'][0]\n",
    "        for value in state['values'][1:]:\n",
    "            state['result'] -= value\n",
    "    elif state['operation'] == '/':\n",
    "        state['result'] = state['values'][0]\n",
    "        for value in state['values'][1:]:\n",
    "            if value != 0:\n",
    "                state['result'] /= value\n",
    "            else:\n",
    "                state['result'] = \"Error: Division by zero\"\n",
    "    else:\n",
    "        state['result'] = 0\n",
    "\n",
    "    state['message']  = f\"Hi, {state['name']}! The result of your operation is: {state['result']}\"\n",
    "\n",
    "    return state"
   ]
  },
  {
   "cell_type": "code",
   "execution_count": 41,
   "id": "f08a690b",
   "metadata": {},
   "outputs": [],
   "source": [
    "graph = StateGraph(AgentState)\n",
    "graph.add_node(\"math_operation\", math_operation)\n",
    "graph.set_entry_point(\"math_operation\") \n",
    "graph.set_finish_point(\"math_operation\")\n",
    "app = graph.compile()"
   ]
  },
  {
   "cell_type": "code",
   "execution_count": 42,
   "id": "fcfe8a89",
   "metadata": {},
   "outputs": [],
   "source": [
    "answer = app.invoke({\"values\" : [1,2,3,5], \"name\": \"Ninada\", \"operation\": \"+\"})"
   ]
  },
  {
   "cell_type": "code",
   "execution_count": 43,
   "id": "0ab5c7f0",
   "metadata": {},
   "outputs": [
    {
     "name": "stdout",
     "output_type": "stream",
     "text": [
      "{'values': [1, 2, 3, 5], 'name': 'Ninada', 'operation': '+', 'result': 11, 'message': 'Hi, Ninada! The result of your operation is: 11'}\n"
     ]
    }
   ],
   "source": [
    "print(answer) \n"
   ]
  },
  {
   "cell_type": "code",
   "execution_count": 44,
   "id": "2d61c212",
   "metadata": {},
   "outputs": [
    {
     "name": "stdout",
     "output_type": "stream",
     "text": [
      "Hi, Ninada! The result of your operation is: 11\n"
     ]
    }
   ],
   "source": [
    "print(answer['message'])"
   ]
  },
  {
   "cell_type": "markdown",
   "id": "85cc9ca8",
   "metadata": {},
   "source": [
    "## Sequential Graph ##"
   ]
  },
  {
   "cell_type": "code",
   "execution_count": 46,
   "id": "f2523ab5",
   "metadata": {},
   "outputs": [],
   "source": [
    "class AgentState(TypedDict):\n",
    "    name : str\n",
    "    age : str\n",
    "    final : str    "
   ]
  },
  {
   "cell_type": "code",
   "execution_count": 47,
   "id": "dacc8bf0",
   "metadata": {},
   "outputs": [],
   "source": [
    "def first_node(state: AgentState) -> AgentState:\n",
    "    \"\"\"First node of sequence graph.\"\"\"\n",
    "    state['final'] = f\"Hi {state['name']}!\"\n",
    "    return state\n",
    "\n",
    "def second_node(state: AgentState) -> AgentState:\n",
    "    \"\"\"Second node of sequence graph.\"\"\"\n",
    "    state['final'] = state[\"final\"] + f\" You are {state['age']} years old.\"\n",
    "    return state"
   ]
  },
  {
   "cell_type": "code",
   "execution_count": 48,
   "id": "7717c359",
   "metadata": {},
   "outputs": [],
   "source": [
    "graph = StateGraph(AgentState)\n",
    "graph.add_node(\"first_node\", first_node)\n",
    "graph.add_node(\"second_node\", second_node)\n",
    "\n",
    "graph.set_entry_point(\"first_node\")\n",
    "graph.add_edge(\"first_node\", \"second_node\")\n",
    "graph.set_finish_point(\"second_node\")\n",
    "app = graph.compile()"
   ]
  },
  {
   "cell_type": "code",
   "execution_count": 49,
   "id": "368b6733",
   "metadata": {},
   "outputs": [
    {
     "data": {
      "image/png": "[encoded data removed]",
      "text/plain": [
       "<IPython.core.display.Image object>"
      ]
     },
     "metadata": {},
     "output_type": "display_data"
    }
   ],
   "source": [
    "display(Image(app.get_graph().draw_mermaid_png()))"
   ]
  },
  {
   "cell_type": "code",
   "execution_count": 53,
   "id": "f2a5d98b",
   "metadata": {},
   "outputs": [],
   "source": [
    "result = app.invoke({\"name\": \"Ninada\", \"age\": \"24\"})"
   ]
  },
  {
   "cell_type": "code",
   "execution_count": 54,
   "id": "15d0af03",
   "metadata": {},
   "outputs": [
    {
     "name": "stdout",
     "output_type": "stream",
     "text": [
      "Hi Ninada! You are 24 years old.\n"
     ]
    }
   ],
   "source": [
    "print(result['final'])"
   ]
  },
  {
   "cell_type": "markdown",
   "id": "089e6ad9",
   "metadata": {},
   "source": [
    "### Exercise 3 ###"
   ]
  },
  {
   "cell_type": "code",
   "execution_count": 55,
   "id": "707f8c1d",
   "metadata": {},
   "outputs": [],
   "source": [
    "class AgentState(TypedDict):\n",
    "    name : str\n",
    "    age : str\n",
    "    skills: list[str]\n",
    "    final : str"
   ]
  },
  {
   "cell_type": "code",
   "execution_count": 56,
   "id": "4d16fd57",
   "metadata": {},
   "outputs": [],
   "source": [
    "def first_node(state: AgentState) -> AgentState:\n",
    "    \"\"\"A simple first node that initializes the state with a name.\"\"\"    \n",
    "    state['final'] = f\"Welcome {state['name']}! \"\n",
    "    return state\n",
    "\n",
    "def second_node(state: AgentState) -> AgentState:\n",
    "    \"\"\"A simple second node that appends the age to the final message.\"\"\"\n",
    "    state['final'] += f\"You are {state['age']} years old.\"\n",
    "    return state\n",
    "\n",
    "def third_node(state: AgentState) -> AgentState:\n",
    "    \"\"\"A simple third node that appends the skills to the final message.\"\"\"\n",
    "    if state['skills']:\n",
    "        state['final'] += f\" Your skills are: {', '.join(state['skills'])}.\"\n",
    "    else:\n",
    "        state['final'] += \" You have no skills listed.\"\n",
    "    return state"
   ]
  },
  {
   "cell_type": "code",
   "execution_count": 58,
   "id": "5a032035",
   "metadata": {},
   "outputs": [],
   "source": [
    "graph = StateGraph(AgentState)\n",
    "graph.add_node(\"first_node\", first_node)\n",
    "graph.add_node(\"second_node\", second_node)\n",
    "graph.add_node(\"third_node\", third_node)\n",
    "graph.set_entry_point(\"first_node\")\n",
    "graph.add_edge(\"first_node\", \"second_node\")\n",
    "graph.add_edge(\"second_node\", \"third_node\")\n",
    "graph.set_finish_point(\"third_node\")\n",
    "app = graph.compile()"
   ]
  },
  {
   "cell_type": "code",
   "execution_count": 59,
   "id": "4e1b2126",
   "metadata": {},
   "outputs": [
    {
     "data": {
      "image/png": "[encoded data removed]",
      "text/plain": [
       "<IPython.core.display.Image object>"
      ]
     },
     "metadata": {},
     "output_type": "display_data"
    }
   ],
   "source": [
    "display(Image(app.get_graph().draw_mermaid_png()))"
   ]
  },
  {
   "cell_type": "code",
   "execution_count": 60,
   "id": "2691da1d",
   "metadata": {},
   "outputs": [
    {
     "name": "stdout",
     "output_type": "stream",
     "text": [
      "Welcome Ninada! You are 24 years old. Your skills are: Python, AI.\n"
     ]
    }
   ],
   "source": [
    "answer = app.invoke({\"name\": \"Ninada\", \"age\": \"24\", \"skills\": [\"Python\", \"AI\"]})\n",
    "print(answer['final'])  "
   ]
  },
  {
   "cell_type": "markdown",
   "id": "ff320329",
   "metadata": {},
   "source": [
    "## Conditional Graphs ##"
   ]
  },
  {
   "cell_type": "code",
   "execution_count": 61,
   "id": "76e44674",
   "metadata": {},
   "outputs": [],
   "source": [
    "from langgraph.graph import StateGraph, START, END"
   ]
  },
  {
   "cell_type": "code",
   "execution_count": 75,
   "id": "4b969b2b",
   "metadata": {},
   "outputs": [],
   "source": [
    "class AgentState(TypedDict):\n",
    "    number1: int\n",
    "    operation: str\n",
    "    number2: int\n",
    "    finalNumber: int\n",
    "\n"
   ]
  },
  {
   "cell_type": "code",
   "execution_count": 77,
   "id": "e70b90c6",
   "metadata": {},
   "outputs": [],
   "source": [
    "def adder(state: AgentState) -> AgentState:\n",
    "    \"\"\"Add two numbers.\"\"\"\n",
    "    state['finalNumber'] = state['number1'] + state['number2']\n",
    "    return state\n",
    "\n",
    "def subtractor(state: AgentState) -> AgentState:\n",
    "    \"\"\"Subtract two numbers.\"\"\"\n",
    "    state['finalNumber'] = state['number1'] - state['number2']\n",
    "    return state\n",
    "\n",
    "# this function returning next edge not the state\n",
    "def decide_next_node(state: AgentState) -> AgentState:\n",
    "    \"\"\"Decide which node to go next based on the operation.\"\"\"\n",
    "    if state['operation'] == '+':\n",
    "        return 'addition_opration'\n",
    "    elif state['operation'] == '-':\n",
    "        return 'subtraction_operation'\n",
    "    "
   ]
  },
  {
   "cell_type": "code",
   "execution_count": 78,
   "id": "8c5b2790",
   "metadata": {},
   "outputs": [],
   "source": [
    "graph = StateGraph(AgentState)\n",
    "\n",
    "graph.add_node(\"adder_node\", adder)\n",
    "graph.add_node(\"subtractor_node\", subtractor)\n",
    "#adding the router node\n",
    "graph.add_node(\"router\", lambda state: state) #passthrough function\n",
    "\n",
    "graph.add_edge(START, \"router\")\n",
    "graph.add_conditional_edges(\n",
    "    \"router\",\n",
    "    decide_next_node,\n",
    "    {\n",
    "        # define edges\n",
    "        'addition_opration': \"adder_node\",\n",
    "        'subtraction_operation': \"subtractor_node\"\n",
    "    } \n",
    "                            \n",
    ")\n",
    "graph.add_edge(\"adder_node\", END)\n",
    "graph.add_edge(\"subtractor_node\", END)\n",
    "\n",
    "app = graph.compile()\n"
   ]
  },
  {
   "cell_type": "code",
   "execution_count": 79,
   "id": "e0b02d11",
   "metadata": {},
   "outputs": [
    {
     "data": {
      "image/png": "[encoded data removed]",
      "text/plain": [
       "<IPython.core.display.Image object>"
      ]
     },
     "metadata": {},
     "output_type": "display_data"
    }
   ],
   "source": [
    "display(Image(app.get_graph().draw_mermaid_png()))"
   ]
  },
  {
   "cell_type": "code",
   "execution_count": 80,
   "id": "3e9c52d1",
   "metadata": {},
   "outputs": [
    {
     "name": "stdout",
     "output_type": "stream",
     "text": [
      "{'number1': 10, 'operation': '+', 'number2': 5, 'finalNumber': 15}\n"
     ]
    }
   ],
   "source": [
    "initial_state_1 = AgentState(number1 = 10, operation = \"+\", number2 = 5)\n",
    "print(app.invoke(initial_state_1))"
   ]
  },
  {
   "cell_type": "markdown",
   "id": "55953646",
   "metadata": {},
   "source": [
    "### Exersice 4 "
   ]
  },
  {
   "cell_type": "code",
   "execution_count": 81,
   "id": "cb6822df",
   "metadata": {},
   "outputs": [],
   "source": [
    "class AgentState(TypedDict):\n",
    "    number1: int    \n",
    "    number2: int\n",
    "    operation1: str\n",
    "    number3: int\n",
    "    number4: int\n",
    "    operation2: str\n",
    "    finalNumber1: int\n",
    "    finalNumber2: int"
   ]
  },
  {
   "cell_type": "code",
   "execution_count": 84,
   "id": "d4e005bb",
   "metadata": {},
   "outputs": [],
   "source": [
    "def adder1(state: AgentState) -> AgentState:\n",
    "    \"\"\"Add first 2 numbers\"\"\"\n",
    "    state['finalNumber1'] = state['number1'] + state['number2']\n",
    "    return state\n",
    "\n",
    "def adder2(state: AgentState) -> AgentState:\n",
    "    \"\"\"Add second 2 numbers\"\"\"\n",
    "    state['finalNumber2'] = state['number3'] + state['number4']\n",
    "    return state\n",
    "\n",
    "def subtractor1(state: AgentState) -> AgentState:\n",
    "    \"\"\"Subtract second 2 numbers\"\"\"\n",
    "    state['finalNumber1'] = state['number1'] - state['number2']\n",
    "    return state\n",
    "\n",
    "def subtractor2(state: AgentState) -> AgentState:\n",
    "    \"\"\"Subtract second 2 numbers\"\"\"\n",
    "    state['finalNumber2'] = state['number3'] - state['number4']\n",
    "    return state\n",
    "\n",
    "def decide_next_node1(state: AgentState) -> AgentState:\n",
    "    \"\"\"Decide which node to go next based on the operation.\"\"\"\n",
    "    if state['operation1'] == '+':\n",
    "        return 'addition_opration1'\n",
    "    elif state['operation1'] == '-':\n",
    "        return 'subtraction_operation1'\n",
    "    \n",
    "def decide_next_node2(state: AgentState) -> AgentState:\n",
    "    \"\"\"Decide which node to go next based on the operation.\"\"\"\n",
    "    if state['operation2'] == '+':\n",
    "        return 'addition_opration2'\n",
    "    elif state['operation2'] == '-':\n",
    "        return 'subtraction_operation2' \n",
    "\n",
    "    "
   ]
  },
  {
   "cell_type": "code",
   "execution_count": 86,
   "id": "f425c71c",
   "metadata": {},
   "outputs": [],
   "source": [
    "graph = StateGraph(AgentState)\n",
    "graph.add_node(\"adder_node1\", adder1)\n",
    "graph.add_node(\"adder_node2\", adder2)\n",
    "graph.add_node(\"subtractor_node1\", subtractor1)     \n",
    "graph.add_node(\"subtractor_node2\", subtractor2)\n",
    "\n",
    "graph.add_node(\"router1\", lambda state: state)  # passthrough function\n",
    "graph.add_node(\"router2\", lambda state: state)  \n",
    "\n",
    "graph.add_edge(START, \"router1\")\n",
    "graph.add_conditional_edges(\n",
    "    \"router1\",\n",
    "    decide_next_node1,\n",
    "    {\n",
    "        'addition_opration1': \"adder_node1\",\n",
    "        'subtraction_operation1': \"subtractor_node1\"\n",
    "    } \n",
    ")\n",
    "graph.add_edge(\"adder_node1\", \"router2\")\n",
    "graph.add_edge(\"subtractor_node1\", \"router2\")\n",
    "graph.add_conditional_edges(\n",
    "    \"router2\",\n",
    "    decide_next_node2,\n",
    "    {\n",
    "        'addition_opration2': \"adder_node2\",\n",
    "        'subtraction_operation2': \"subtractor_node2\"\n",
    "    } \n",
    ")\n",
    "graph.add_edge(\"adder_node2\", END)\n",
    "graph.add_edge(\"subtractor_node2\", END)\n",
    "\n",
    "app = graph.compile()\n"
   ]
  },
  {
   "cell_type": "code",
   "execution_count": 87,
   "id": "ee6df361",
   "metadata": {},
   "outputs": [
    {
     "data": {
      "image/png": "[encoded data removed]",
      "text/plain": [
       "<IPython.core.display.Image object>"
      ]
     },
     "metadata": {},
     "output_type": "display_data"
    }
   ],
   "source": [
    "display(Image(app.get_graph().draw_mermaid_png()))"
   ]
  },
  {
   "cell_type": "code",
   "execution_count": 88,
   "id": "82c58f53",
   "metadata": {},
   "outputs": [
    {
     "name": "stdout",
     "output_type": "stream",
     "text": [
      "{'number1': 10, 'number2': 5, 'operation1': '-', 'number3': 20, 'number4': 6, 'operation2': '+', 'finalNumber1': 5, 'finalNumber2': 26}\n"
     ]
    }
   ],
   "source": [
    "initial_state_1 = AgentState(number1 = 10, operation1 = \"-\", number2 = 5, number3 = 20, number4 = 6, operation2 = \"+\")\n",
    "print(app.invoke(initial_state_1))"
   ]
  },
  {
   "cell_type": "markdown",
   "id": "09081d9a",
   "metadata": {},
   "source": [
    "## Looping Graph ##"
   ]
  },
  {
   "cell_type": "code",
   "execution_count": 91,
   "id": "a61c3276",
   "metadata": {},
   "outputs": [],
   "source": [
    "import random\n",
    "from typing import List, TypedDict"
   ]
  },
  {
   "cell_type": "code",
   "execution_count": 92,
   "id": "ef835631",
   "metadata": {},
   "outputs": [],
   "source": [
    "class AgentState(TypedDict):\n",
    "    name : str\n",
    "    number : List[int]\n",
    "    counter: int"
   ]
  },
  {
   "cell_type": "code",
   "execution_count": 101,
   "id": "f50f001b",
   "metadata": {},
   "outputs": [],
   "source": [
    "def greeting_node(state: AgentState) -> AgentState:\n",
    "    \"\"\"A simple greeting node that initializes the state with a message.\"\"\"\n",
    "    state['name'] = f\"Hi, there, {state['name']}.\"\n",
    "    #state['counter'] = 0\n",
    "    return state\n",
    "\n",
    "def random_node(state: AgentState) -> AgentState:\n",
    "    \"\"\"generate random number from 0 to 10\"\"\"\n",
    "    state['number'].append(random.randint(1, 10))\n",
    "    state['counter'] += 1\n",
    "    return state\n",
    "\n",
    "def should_continue(state: AgentState) -> AgentState:\n",
    "    \"\"\"Decide whether to continue or not based on the counter.\"\"\"\n",
    "    if state['counter'] < 5:\n",
    "        return \"continue\"\n",
    "    else:\n",
    "        return \"finish\""
   ]
  },
  {
   "cell_type": "code",
   "execution_count": 102,
   "id": "93704f32",
   "metadata": {},
   "outputs": [],
   "source": [
    "graph = StateGraph(AgentState)\n",
    "graph.add_node(\"greeting\", greeting_node)\n",
    "graph.add_node(\"random\", random_node)\n",
    "\n",
    "graph.add_edge(\"greeting\", \"random\")\n",
    "graph.add_conditional_edges(\n",
    "    \"random\",\n",
    "    should_continue,\n",
    "    {\n",
    "        'continue': \"random\",\n",
    "        'finish': END\n",
    "    }\n",
    ")\n",
    "\n",
    "graph.set_entry_point(\"greeting\")\n",
    "app = graph.compile()\n",
    "\n"
   ]
  },
  {
   "cell_type": "code",
   "execution_count": 103,
   "id": "3ef12b4d",
   "metadata": {},
   "outputs": [
    {
     "data": {
      "image/png": "[encoded data removed]",
      "text/plain": [
       "<IPython.core.display.Image object>"
      ]
     },
     "metadata": {},
     "output_type": "display_data"
    }
   ],
   "source": [
    "display(Image(app.get_graph().draw_mermaid_png()))"
   ]
  },
  {
   "cell_type": "code",
   "execution_count": 104,
   "id": "a6a361d3",
   "metadata": {},
   "outputs": [
    {
     "data": {
      "text/plain": [
       "{'name': 'Hi, there, Ninada.', 'number': [7, 4, 1, 9, 3, 8, 9], 'counter': 5}"
      ]
     },
     "execution_count": 104,
     "metadata": {},
     "output_type": "execute_result"
    }
   ],
   "source": [
    "app.invoke({\"name\": \"Ninada\", \"number\": [], \"counter\": -2})"
   ]
  },
  {
   "cell_type": "markdown",
   "id": "ed943951",
   "metadata": {},
   "source": [
    "### Exersice 5 ###"
   ]
  },
  {
   "cell_type": "code",
   "execution_count": 144,
   "id": "7e43f20c",
   "metadata": {},
   "outputs": [],
   "source": [
    "class AgentState(TypedDict):\n",
    "    number : int\n",
    "    guess : List[int]    \n",
    "    highBound: int\n",
    "    lowBound: int\n",
    "    counter: int    "
   ]
  },
  {
   "cell_type": "code",
   "execution_count": 149,
   "id": "357ea083",
   "metadata": {},
   "outputs": [],
   "source": [
    "def setup(state: AgentState) -> AgentState:\n",
    "    \"\"\"Initialize the game with a random number.\"\"\"\n",
    "    state['number'] = random.randint(1, 20)\n",
    "    state['guess'] = []   \n",
    "    state['counter'] = 0\n",
    "    state['highBound'] = 20\n",
    "    state['lowBound'] = 1    \n",
    "    return state\n",
    "\n",
    "def guess(state: AgentState) -> AgentState:\n",
    "    \"\"\"Process the user's guess.\"\"\"\n",
    "    state['guess'].append(random.randint(state['lowBound'], state['highBound']))\n",
    "    state['counter'] += 1    \n",
    "    return state\n",
    "\n",
    "def check_guess(state: AgentState) -> AgentState:\n",
    "    \"\"\"Check the guess is correct or not\"\"\"\n",
    "    if state['guess'][-1] == state['number']:        \n",
    "        print(\"You found the number!\")\n",
    "        return \"correct\"\n",
    "    else:              \n",
    "        return \"incorrect\"\n",
    "    \n",
    "def adjust_bounds(state: AgentState) -> AgentState:\n",
    "    \"\"\"Adjust the bounds based on the guess.\"\"\"\n",
    "    if state['guess'][-1] < state['number']:\n",
    "        state['lowBound'] = state['guess'][-1] + 1\n",
    "    elif state['guess'][-1] > state['number']:\n",
    "        state['highBound'] = state['guess'][-1] - 1\n",
    "    return state\n",
    "\n",
    "def should_continue(state: AgentState) -> AgentState:\n",
    "    \"\"\"Decide whether to continue or not based on the counter.\"\"\"\n",
    "    if state['counter'] < 7:\n",
    "        return \"continue\"\n",
    "    else:\n",
    "        return \"finish\"    \n",
    "    "
   ]
  },
  {
   "cell_type": "code",
   "execution_count": 150,
   "id": "37360cf3",
   "metadata": {},
   "outputs": [],
   "source": [
    "graph = StateGraph(AgentState)\n",
    "graph.add_node(\"setup\", setup)\n",
    "graph.add_node(\"guess\", guess)\n",
    "graph.add_node(\"adjust_bounds\", adjust_bounds)\n",
    "\n",
    "graph.add_conditional_edges(\n",
    "    \"guess\",\n",
    "    check_guess,\n",
    "    {\n",
    "        'correct': END,\n",
    "        'incorrect': \"adjust_bounds\"\n",
    "    }\n",
    ")\n",
    "graph.add_conditional_edges(\n",
    "    \"adjust_bounds\",\n",
    "    should_continue,\n",
    "    {\n",
    "        'continue': \"guess\",\n",
    "        'finish': END\n",
    "    })\n",
    "\n",
    "graph.add_edge(START, \"setup\")\n",
    "graph.add_edge(\"setup\", \"guess\")\n",
    "\n",
    "graph.set_entry_point(\"setup\")\n",
    "\n",
    "app = graph.compile()"
   ]
  },
  {
   "cell_type": "code",
   "execution_count": 151,
   "id": "d862196b",
   "metadata": {},
   "outputs": [
    {
     "data": {
      "image/png": "[encoded data removed]",
      "text/plain": [
       "<IPython.core.display.Image object>"
      ]
     },
     "metadata": {},
     "output_type": "display_data"
    }
   ],
   "source": [
    "display(Image(app.get_graph().draw_mermaid_png()))"
   ]
  },
  {
   "cell_type": "code",
   "execution_count": 152,
   "id": "6964be07",
   "metadata": {},
   "outputs": [
    {
     "name": "stdout",
     "output_type": "stream",
     "text": [
      "You found the number!\n"
     ]
    },
    {
     "data": {
      "text/plain": [
       "{'number': 17,\n",
       " 'guess': [9, 14, 17],\n",
       " 'highBound': 20,\n",
       " 'lowBound': 15,\n",
       " 'counter': 3}"
      ]
     },
     "execution_count": 152,
     "metadata": {},
     "output_type": "execute_result"
    }
   ],
   "source": [
    "initial_state = AgentState(number = 0, guess = [], highBound = 20, lowBound = 1, counter = 0)\n",
    "app.invoke(initial_state)"
   ]
  },
  {
   "cell_type": "code",
   "execution_count": null,
   "id": "67e6e8ab",
   "metadata": {},
   "outputs": [],
   "source": []
  }
 ],
 "metadata": {
  "kernelspec": {
   "display_name": "lang-graph",
   "language": "python",
   "name": "python3"
  },
  "language_info": {
   "codemirror_mode": {
    "name": "ipython",
    "version": 3
   },
   "file_extension": ".py",
   "mimetype": "text/x-python",
   "name": "python",
   "nbconvert_exporter": "python",
   "pygments_lexer": "ipython3",
   "version": "3.12.3"
  }
 },
 "nbformat": 4,
 "nbformat_minor": 5
}
